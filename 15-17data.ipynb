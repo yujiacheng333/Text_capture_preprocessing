{
 "cells": [
  {
   "cell_type": "code",
   "execution_count": 2,
   "metadata": {},
   "outputs": [
    {
     "name": "stderr",
     "output_type": "stream",
     "text": [
      "C:\\Users\\jax500\\Anaconda3\\envs\\tensorflow\\lib\\site-packages\\IPython\\core\\interactiveshell.py:3049: DtypeWarning: Columns (14,23,24,25,26) have mixed types. Specify dtype option on import or set low_memory=False.\n",
      "  interactivity=interactivity, compiler=compiler, result=result)\n"
     ]
    },
    {
     "name": "stdout",
     "output_type": "stream",
     "text": [
      "Unnamed: 0         0\n",
      "PLAN_ID            0\n",
      "CKBH               1\n",
      "DZEH               1\n",
      "XKZH               0\n",
      "NCMC            8259\n",
      "NCBH               0\n",
      "STATUS             0\n",
      "YBMC               0\n",
      "JCJG               0\n",
      "TTZL          256160\n",
      "XB                 1\n",
      "PZ                 1\n",
      "TZZT          456652\n",
      "CLYY          335346\n",
      "GJMC               0\n",
      "GWJCSYS         8670\n",
      "HM              6683\n",
      "CFD            16892\n",
      "TJD           213936\n",
      "MDD             6683\n",
      "JYZS            6683\n",
      "SW              6683\n",
      "HX            449842\n",
      "JS            449842\n",
      "PF            451829\n",
      "FB            451829\n",
      "SFXD            8670\n",
      "JJRJDWSL           0\n",
      "SLXX               0\n",
      "DCJY               0\n",
      "SL_LYGJ            0\n",
      "SL_SFHG         6683\n",
      "DC_LYGJ            0\n",
      "DC_SFHG         6683\n",
      "ZYSL           10007\n",
      "YSGJMC         16208\n",
      "YSGJBH        185109\n",
      "QYDD           10007\n",
      "TJLX          197754\n",
      "DDDD            6683\n",
      "dtype: int64\n"
     ]
    }
   ],
   "source": [
    "import pandas as pd\n",
    "import numpy as np\n",
    "\n",
    "all_data1 = pd.read_csv(\"./data13_14.csv\")\n",
    "print(all_data1.isnull().sum())"
   ]
  },
  {
   "cell_type": "code",
   "execution_count": null,
   "metadata": {},
   "outputs": [],
   "source": []
  }
 ],
 "metadata": {
  "kernelspec": {
   "display_name": "Python 3",
   "language": "python",
   "name": "python3"
  },
  "language_info": {
   "codemirror_mode": {
    "name": "ipython",
    "version": 3
   },
   "file_extension": ".py",
   "mimetype": "text/x-python",
   "name": "python",
   "nbconvert_exporter": "python",
   "pygments_lexer": "ipython3",
   "version": "3.6.8"
  }
 },
 "nbformat": 4,
 "nbformat_minor": 2
}
